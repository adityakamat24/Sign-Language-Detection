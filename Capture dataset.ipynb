{
 "cells": [
  {
   "cell_type": "code",
   "execution_count": 28,
   "id": "016a6e47",
   "metadata": {},
   "outputs": [
    {
     "name": "stdout",
     "output_type": "stream",
     "text": [
      "Enter letter: Z\n"
     ]
    }
   ],
   "source": [
    "import cv2\n",
    "import os\n",
    "letter=input(\"Enter letter: \")\n",
    "cap=cv2.VideoCapture(0)\n",
    "\n",
    "for i in range (0,175):\n",
    "    ret, img = cap.read()\n",
    "    cv2.imshow(\"Webcam Frame\", img)\n",
    "    newpath = \"test dataset/\"+str(letter)\n",
    "    if not os.path.exists(newpath):\n",
    "        os.makedirs(newpath)\n",
    "    cv2.imwrite(\"test dataset/\"+str(letter)+\"/\"+str(letter)+\"_\"+str(i)+\".png\",img)\n",
    "    cv2.waitKey(1)\n",
    "cap.release()\n",
    "cv2.destroyAllWindows()"
   ]
  }
 ],
 "metadata": {
  "kernelspec": {
   "display_name": "Python 3 (ipykernel)",
   "language": "python",
   "name": "python3"
  },
  "language_info": {
   "codemirror_mode": {
    "name": "ipython",
    "version": 3
   },
   "file_extension": ".py",
   "mimetype": "text/x-python",
   "name": "python",
   "nbconvert_exporter": "python",
   "pygments_lexer": "ipython3",
   "version": "3.10.4"
  }
 },
 "nbformat": 4,
 "nbformat_minor": 5
}
