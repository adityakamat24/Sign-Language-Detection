{
 "cells": [
  {
   "cell_type": "code",
   "execution_count": 1,
   "id": "ed23a3c0",
   "metadata": {},
   "outputs": [],
   "source": [
    "import os\n",
    "import cv2\n",
    "import numpy as np\n",
    "from PIL import Image\n",
    "\n",
    "names = []\n",
    "paths = []\n",
    "minValue = 70\n",
    "for users in os.listdir(\"D:/jupyter projects ml/sign language/test dataset\"):\n",
    "    names.append(users)\n",
    "for name in names:\n",
    "    for image in os.listdir(\"D:/jupyter projects ml/sign language/test dataset/{}\".format(name)):\n",
    "        pathString = os.path.join(\"D:/jupyter projects ml/sign language/test dataset/{}\".format(name), image)\n",
    "        paths.append(pathString)\n",
    "    newpath = \"test processed/\"+str(name)\n",
    "    os.makedirs(newpath)\n",
    "    "
   ]
  }
 ],
 "metadata": {
  "kernelspec": {
   "display_name": "Python 3 (ipykernel)",
   "language": "python",
   "name": "python3"
  },
  "language_info": {
   "codemirror_mode": {
    "name": "ipython",
    "version": 3
   },
   "file_extension": ".py",
   "mimetype": "text/x-python",
   "name": "python",
   "nbconvert_exporter": "python",
   "pygments_lexer": "ipython3",
   "version": "3.10.4"
  }
 },
 "nbformat": 4,
 "nbformat_minor": 5
}
